{
  "nbformat": 4,
  "nbformat_minor": 0,
  "metadata": {
    "colab": {
      "provenance": [],
      "authorship_tag": "ABX9TyMLRMh9BIIi0ptU1fbwBSCt",
      "include_colab_link": true
    },
    "kernelspec": {
      "name": "python3",
      "display_name": "Python 3"
    },
    "language_info": {
      "name": "python"
    }
  },
  "cells": [
    {
      "cell_type": "markdown",
      "metadata": {
        "id": "view-in-github",
        "colab_type": "text"
      },
      "source": [
        "<a href=\"https://colab.research.google.com/github/nps5696/computer-vision-cognition/blob/main/notebooks/frame_capture.ipynb\" target=\"_parent\"><img src=\"https://colab.research.google.com/assets/colab-badge.svg\" alt=\"Open In Colab\"/></a>"
      ]
    },
    {
      "cell_type": "code",
      "execution_count": null,
      "metadata": {
        "id": "v699CkXZ5CKk"
      },
      "outputs": [],
      "source": [
        "#!pip install ...\n",
        "\n",
        "import cv2\n",
        "import numpy as np\n",
        "#googles colab fix\n",
        "from google.colab.patches import cv2_imshow\n",
        "\n",
        "capture = cv2.VideoCapture('rtsp://login:password@IP:2554/stream1')\n",
        "\n",
        "print(capture)\n",
        "\n",
        "while(True):\n",
        "    ret, frame = capture.read()\n",
        "    cv2_imshow(frame)\n",
        "    if cv2.waitKey(1) & 0xFF == ord('q'):\n",
        "        break\n",
        "\n",
        "capture.release()\n",
        "cv2.destroyAllWindows()"
      ]
    }
  ]
}