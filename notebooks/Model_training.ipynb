{
 "cells": [
  {
   "cell_type": "code",
   "execution_count": null,
   "metadata": {
    "id": "5kRHB_SNrk2-"
   },
   "outputs": [],
   "source": [
    "!pip install labelme tensorflow opencv-python-headless albumentations matplotlib\n",
    "#tensorflow-gpu opencv-python"
   ]
  },
  {
   "cell_type": "code",
   "execution_count": null,
   "metadata": {
    "colab": {
     "base_uri": "https://localhost:8080/"
    },
    "id": "LMLll8WyTRVy",
    "outputId": "5615cf85-1a1d-407b-d826-9f9a7d6be563"
   },
   "outputs": [],
   "source": [
    "#import tensorflow as tf\n",
    "\n",
    "\n",
    "#physical_devices = tf.config.list_physical_devices('GPU')\n",
    "\n",
    "#print(\"GPU:\", tf.config.list_physical_devices('GPU'))\n",
    "#print(\"Num GPUs:\", len(physical_devices))\n",
    "\n"
   ]
  },
  {
   "cell_type": "code",
   "execution_count": null,
   "metadata": {
    "colab": {
     "base_uri": "https://localhost:8080/"
    },
    "id": "qT7QP84zT73S",
    "outputId": "b3ae0b08-bf0e-4707-826b-327a3e9bde63"
   },
   "outputs": [],
   "source": [
    "import os\n",
    "import time\n",
    "import uuid\n",
    "import cv2\n",
    "#from google.colab import drive\n",
    "\n",
    "\n",
    "#drive.mount('/content/drive')\n",
    "\n",
    "#!ls -l /content/drive/MyDrive/colab_images/images/\n",
    "\n",
    "\n",
    "# IMPORTANT !!! First create directory path within location where the notebook is ran from\n",
    "IMAGES_PATH = os.path.join(\"colab_images\",\"images1\")\n",
    "\n",
    "# Can check compiled path here \n",
    "#print(\"\\nPath: \", IMAGES_PATH)\n",
    "\n",
    "num_img = 100"
   ]
  },
  {
   "cell_type": "code",
   "execution_count": null,
   "metadata": {
    "colab": {
     "base_uri": "https://localhost:8080/",
     "height": 1000
    },
    "id": "jRlaYoC0coxc",
    "outputId": "d885f4ba-6fb8-4730-c4ae-baa26d74bfb8"
   },
   "outputs": [],
   "source": [
    "#from google.colab.patches import cv2_imshow\n",
    "\n",
    "#capture = cv2.VideoCapture('rtsp://user:pass@IP:2554/stream1') #cv2.VideoCapture(0)\n",
    "\n",
    "# Works better on Linux with cv2.CAP_V4L2 option, can(must?) be removed on Windows and Mac\n",
    "# Your webcam can have index 0,1,2 try them to find\n",
    "capture = cv2.VideoCapture(1,cv2.CAP_V4L2) #cv2.VideoCapture(0)\n",
    "\n",
    "for image in range(num_img):\n",
    "  print(\"Getting image \", image)\n",
    "  ret, frame = capture.read()\n",
    "  imagename = os.path.join(IMAGES_PATH,f'{str(uuid.uuid1())}.jpg')\n",
    "  cv2.imwrite(imagename, frame)\n",
    "  cv2.imshow('frame', frame)\n",
    "  time.sleep(2)\n",
    "\n",
    "  if cv2.waitKey(1) & 0xFF == ord('q'):\n",
    "    break\n",
    "\n",
    "capture.release()\n",
    "cv2.destroyAllWindows\n",
    "\n",
    "# If camera window freezes just kill it, frames should be saved anyway"
   ]
  },
  {
   "cell_type": "code",
   "execution_count": null,
   "metadata": {},
   "outputs": [],
   "source": [
    "# Install and run labelme app it should be installe in the 1st step\n",
    "# 1. Open dir with pictures\n",
    "# 2. Set autosave in file menu\n",
    "# 3. In file menu change output dir to the new dir labels, you can create the dir alogside the images dir \n",
    "# 4. Edit - create rectangle\n",
    "# 5. Select points on the picture to fit your face within rectangle\n",
    "# 6. In the popup window name label class as \"face\", save\n",
    "# 7. Hit \"g\" key to move to the next image, continue until done \n",
    "\n",
    "!labelme"
   ]
  }
 ],
 "metadata": {
  "accelerator": "GPU",
  "colab": {
   "gpuType": "T4",
   "provenance": []
  },
  "kernelspec": {
   "display_name": "Python 3 (ipykernel)",
   "language": "python",
   "name": "python3"
  },
  "language_info": {
   "codemirror_mode": {
    "name": "ipython",
    "version": 3
   },
   "file_extension": ".py",
   "mimetype": "text/x-python",
   "name": "python",
   "nbconvert_exporter": "python",
   "pygments_lexer": "ipython3",
   "version": "3.11.4"
  }
 },
 "nbformat": 4,
 "nbformat_minor": 1
}
